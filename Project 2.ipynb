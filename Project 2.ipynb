{
 "cells": [
  {
   "cell_type": "code",
   "execution_count": 1,
   "id": "c37cb29d",
   "metadata": {},
   "outputs": [],
   "source": [
    "import pandas as pd"
   ]
  },
  {
   "cell_type": "code",
   "execution_count": 2,
   "id": "7fc2b65e",
   "metadata": {},
   "outputs": [],
   "source": [
    "# import the csv file\n",
    "df=pd.read_csv('cardio.csv')"
   ]
  },
  {
   "cell_type": "code",
   "execution_count": 3,
   "id": "7b4f6bbd",
   "metadata": {},
   "outputs": [
    {
     "data": {
      "text/html": [
       "<div>\n",
       "<style scoped>\n",
       "    .dataframe tbody tr th:only-of-type {\n",
       "        vertical-align: middle;\n",
       "    }\n",
       "\n",
       "    .dataframe tbody tr th {\n",
       "        vertical-align: top;\n",
       "    }\n",
       "\n",
       "    .dataframe thead th {\n",
       "        text-align: right;\n",
       "    }\n",
       "</style>\n",
       "<table border=\"1\" class=\"dataframe\">\n",
       "  <thead>\n",
       "    <tr style=\"text-align: right;\">\n",
       "      <th></th>\n",
       "      <th>id</th>\n",
       "      <th>age</th>\n",
       "      <th>gender</th>\n",
       "      <th>height</th>\n",
       "      <th>weight</th>\n",
       "      <th>ap_hi</th>\n",
       "      <th>ap_lo</th>\n",
       "      <th>cholesterol</th>\n",
       "      <th>gluc</th>\n",
       "      <th>smoke</th>\n",
       "      <th>alco</th>\n",
       "      <th>active</th>\n",
       "      <th>cardio</th>\n",
       "    </tr>\n",
       "  </thead>\n",
       "  <tbody>\n",
       "    <tr>\n",
       "      <th>0</th>\n",
       "      <td>988</td>\n",
       "      <td>22469</td>\n",
       "      <td>1</td>\n",
       "      <td>155</td>\n",
       "      <td>69.0</td>\n",
       "      <td>130</td>\n",
       "      <td>80</td>\n",
       "      <td>2</td>\n",
       "      <td>2</td>\n",
       "      <td>0</td>\n",
       "      <td>0</td>\n",
       "      <td>1</td>\n",
       "      <td>0</td>\n",
       "    </tr>\n",
       "    <tr>\n",
       "      <th>1</th>\n",
       "      <td>989</td>\n",
       "      <td>14648</td>\n",
       "      <td>1</td>\n",
       "      <td>163</td>\n",
       "      <td>71.0</td>\n",
       "      <td>110</td>\n",
       "      <td>70</td>\n",
       "      <td>1</td>\n",
       "      <td>1</td>\n",
       "      <td>0</td>\n",
       "      <td>0</td>\n",
       "      <td>1</td>\n",
       "      <td>1</td>\n",
       "    </tr>\n",
       "    <tr>\n",
       "      <th>2</th>\n",
       "      <td>990</td>\n",
       "      <td>21901</td>\n",
       "      <td>1</td>\n",
       "      <td>165</td>\n",
       "      <td>70.0</td>\n",
       "      <td>120</td>\n",
       "      <td>80</td>\n",
       "      <td>1</td>\n",
       "      <td>1</td>\n",
       "      <td>0</td>\n",
       "      <td>0</td>\n",
       "      <td>1</td>\n",
       "      <td>0</td>\n",
       "    </tr>\n",
       "    <tr>\n",
       "      <th>3</th>\n",
       "      <td>991</td>\n",
       "      <td>14549</td>\n",
       "      <td>2</td>\n",
       "      <td>165</td>\n",
       "      <td>85.0</td>\n",
       "      <td>120</td>\n",
       "      <td>80</td>\n",
       "      <td>1</td>\n",
       "      <td>1</td>\n",
       "      <td>1</td>\n",
       "      <td>1</td>\n",
       "      <td>1</td>\n",
       "      <td>0</td>\n",
       "    </tr>\n",
       "    <tr>\n",
       "      <th>4</th>\n",
       "      <td>992</td>\n",
       "      <td>23393</td>\n",
       "      <td>1</td>\n",
       "      <td>155</td>\n",
       "      <td>62.0</td>\n",
       "      <td>120</td>\n",
       "      <td>80</td>\n",
       "      <td>1</td>\n",
       "      <td>1</td>\n",
       "      <td>0</td>\n",
       "      <td>0</td>\n",
       "      <td>1</td>\n",
       "      <td>0</td>\n",
       "    </tr>\n",
       "  </tbody>\n",
       "</table>\n",
       "</div>"
      ],
      "text/plain": [
       "    id    age  gender  height  weight  ap_hi  ap_lo  cholesterol  gluc  smoke  \\\n",
       "0  988  22469       1     155    69.0    130     80            2     2      0   \n",
       "1  989  14648       1     163    71.0    110     70            1     1      0   \n",
       "2  990  21901       1     165    70.0    120     80            1     1      0   \n",
       "3  991  14549       2     165    85.0    120     80            1     1      1   \n",
       "4  992  23393       1     155    62.0    120     80            1     1      0   \n",
       "\n",
       "   alco  active  cardio  \n",
       "0     0       1       0  \n",
       "1     0       1       1  \n",
       "2     0       1       0  \n",
       "3     1       1       0  \n",
       "4     0       1       0  "
      ]
     },
     "execution_count": 3,
     "metadata": {},
     "output_type": "execute_result"
    }
   ],
   "source": [
    "df.head() # check whether there's header in the dataframe"
   ]
  },
  {
   "cell_type": "markdown",
   "id": "6a47cdc7",
   "metadata": {},
   "source": [
    "This is a dataset recording the patients' physical measured data for Cardiovascular Disease Detection.\n",
    "Per the instruction and data dictionary of the Cardiovascular Disease Detection dataset, there're 11 features as below,\n",
    "1.\tAge | Objective Feature | age | int (days)\n",
    "2.\tHeight | Objective Feature | height | int (cm) |\n",
    "3.\tWeight | Objective Feature | weight | float (kg) |\n",
    "4.\tGender | Objective Feature | gender | categorical code |\n",
    "5.\tSystolic blood pressure | Examination Feature | ap_hi | int |\n",
    "6.\tDiastolic blood pressure | Examination Feature | ap_lo | int |\n",
    "7.\tCholesterol | Examination Feature | cholesterol | 1: normal, 2: above normal, 3: well above normal |\n",
    "8.\tGlucose | Examination Feature | gluc | 1: normal, 2: above normal, 3: well above normal |\n",
    "9.\tSmoking | Subjective Feature | smoke | binary |\n",
    "10.\tAlcohol intake | Subjective Feature | alco | binary |\n",
    "11.\tPhysical activity | Subjective Feature | active | binary |\n",
    "\n",
    "The last column \"cardio\" is target dependent variable which the models would be built to estimate the \"cardio\" classification.\n",
    "The data source and detailed description of the dataset can be found at the link below\n",
    "https://www.kaggle.com/datasets/bhadaneeraj/cardio-vascular-disease-detection"
   ]
  },
  {
   "cell_type": "markdown",
   "id": "4878d058",
   "metadata": {},
   "source": [
    "# 1. Cleanup the dataset and make description on the dataset"
   ]
  },
  {
   "cell_type": "code",
   "execution_count": 3,
   "id": "891145f6",
   "metadata": {},
   "outputs": [
    {
     "name": "stdout",
     "output_type": "stream",
     "text": [
      "Column  id  has:  0  missing values.\n",
      "Column  age  has:  0  missing values.\n",
      "Column  gender  has:  0  missing values.\n",
      "Column  height  has:  0  missing values.\n",
      "Column  weight  has:  0  missing values.\n",
      "Column  ap_hi  has:  0  missing values.\n",
      "Column  ap_lo  has:  0  missing values.\n",
      "Column  cholesterol  has:  0  missing values.\n",
      "Column  gluc  has:  0  missing values.\n",
      "Column  smoke  has:  0  missing values.\n",
      "Column  alco  has:  0  missing values.\n",
      "Column  active  has:  0  missing values.\n",
      "Column  cardio  has:  0  missing values.\n"
     ]
    }
   ],
   "source": [
    "#checking missing data\n",
    "for col_name in df.columns:\n",
    "    print('Column ', col_name, ' has: ', df[col_name].isna().sum(), ' missing values.')"
   ]
  },
  {
   "cell_type": "code",
   "execution_count": 4,
   "id": "d7cabe25",
   "metadata": {},
   "outputs": [],
   "source": [
    "num_vars=['age','height','weight','ap_hi','ap_lo']\n",
    "cat3_vars=['gender','cholesterol','gluc']\n",
    "bin_vars=['smoke','alco','active']\n",
    "target='cardio'"
   ]
  },
  {
   "cell_type": "code",
   "execution_count": 5,
   "id": "c71fc653",
   "metadata": {},
   "outputs": [
    {
     "name": "stdout",
     "output_type": "stream",
     "text": [
      "1    45079\n",
      "2    24222\n",
      "Name: gender, dtype: int64\n",
      "1    51868\n",
      "2     9446\n",
      "3     7987\n",
      "Name: cholesterol, dtype: int64\n",
      "1    58885\n",
      "3     5277\n",
      "2     5139\n",
      "Name: gluc, dtype: int64\n"
     ]
    }
   ],
   "source": [
    "#Explore 3 categories data, no data out of range, but some data distributed in bias:\n",
    "for col_name in cat3_vars:\n",
    "    print(df[col_name].value_counts())"
   ]
  },
  {
   "cell_type": "code",
   "execution_count": 6,
   "id": "e2c74523",
   "metadata": {},
   "outputs": [
    {
     "name": "stdout",
     "output_type": "stream",
     "text": [
      "0    63199\n",
      "1     6102\n",
      "Name: smoke, dtype: int64\n",
      "0    65567\n",
      "1     3734\n",
      "Name: alco, dtype: int64\n",
      "1    55717\n",
      "0    13584\n",
      "Name: active, dtype: int64\n"
     ]
    }
   ],
   "source": [
    "#Explore binary categories data, no data out of range, but some data distributed in bias:\n",
    "for col_name in bin_vars:\n",
    "    print(df[col_name].value_counts())"
   ]
  },
  {
   "cell_type": "code",
   "execution_count": 7,
   "id": "04bd9147",
   "metadata": {},
   "outputs": [
    {
     "name": "stdout",
     "output_type": "stream",
     "text": [
      "0    34679\n",
      "1    34622\n",
      "Name: cardio, dtype: int64\n"
     ]
    }
   ],
   "source": [
    "# Explore target variable, as the result, very perfect distributed in both classification\n",
    "print(df[target].value_counts())"
   ]
  },
  {
   "cell_type": "code",
   "execution_count": 9,
   "id": "a034ccd4",
   "metadata": {},
   "outputs": [
    {
     "data": {
      "image/png": "[encoded data removed]",
      "text/plain": [
       "<Figure size 640x480 with 1 Axes>"
      ]
     },
     "metadata": {},
     "output_type": "display_data"
    },
    {
     "data": {
      "image/png": "[encoded data removed]",
      "text/plain": [
       "<Figure size 640x480 with 1 Axes>"
      ]
     },
     "metadata": {},
     "output_type": "display_data"
    },
    {
     "data": {
      "image/png": "[encoded data removed]",
      "text/plain": [
       "<Figure size 640x480 with 1 Axes>"
      ]
     },
     "metadata": {},
     "output_type": "display_data"
    },
    {
     "data": {
      "image/png": "[encoded data removed]",
      "text/plain": [
       "<Figure size 640x480 with 1 Axes>"
      ]
     },
     "metadata": {},
     "output_type": "display_data"
    },
    {
     "data": {
      "image/png": "[encoded data removed]",
      "text/plain": [
       "<Figure size 640x480 with 1 Axes>"
      ]
     },
     "metadata": {},
     "output_type": "display_data"
    },
    {
     "data": {
      "image/png": "[encoded data removed]",
      "text/plain": [
       "<Figure size 640x480 with 1 Axes>"
      ]
     },
     "metadata": {},
     "output_type": "display_data"
    },
    {
     "data": {
      "image/png": "[encoded data removed]",
      "text/plain": [
       "<Figure size 640x480 with 1 Axes>"
      ]
     },
     "metadata": {},
     "output_type": "display_data"
    },
    {
     "data": {
      "image/png": "[encoded data removed]",
      "text/plain": [
       "<Figure size 640x480 with 1 Axes>"
      ]
     },
     "metadata": {},
     "output_type": "display_data"
    },
    {
     "data": {
      "image/png": "[encoded data removed]",
      "text/plain": [
       "<Figure size 640x480 with 1 Axes>"
      ]
     },
     "metadata": {},
     "output_type": "display_data"
    },
    {
     "data": {
      "image/png": "[encoded data removed]",
      "text/plain": [
       "<Figure size 640x480 with 1 Axes>"
      ]
     },
     "metadata": {},
     "output_type": "display_data"
    }
   ],
   "source": [
    "# Check numberic data distribution\n",
    "import seaborn as sns\n",
    "import matplotlib as mpl\n",
    "import matplotlib.pyplot as plt\n",
    "for col_name in num_vars:\n",
    "    sns.set_theme(style=\"darkgrid\")\n",
    "    f,ax=plt.subplots()\n",
    "    sns.despine(f)\n",
    "    sns.histplot(data=df,x=df[col_name]).set(title='Histogram of {}'.format(col_name))\n",
    "    plt.show()\n",
    "    sns.set_theme(style=\"darkgrid\")\n",
    "    sns.boxplot(data=df,x=df[col_name]).set(title='Boxplot of {}'.format(col_name))\n",
    "    plt.show()"
   ]
  },
  {
   "cell_type": "markdown",
   "id": "a1a25515",
   "metadata": {},
   "source": [
    "From the histograms and boxplots, the data on age (days), height(cm), weight(kg) are in reasonable human range. At the same time, some data in \"ap_hi\" and \"ap_low\" are unreasonable.\n",
    "\n",
    "According to the professional medical article and research, the for \"ap_hi\" column, the highest pressure for systolic blood pressure recorded in an individual was 370/360. \n",
    "(Cited from: \"Influence of breathing technique on arterial blood pressure during heavy weight lifting\" https://pubmed.ncbi.nlm.nih.gov/7741618/#:~:text=The%20highest%20pressure%20recorded%20in,maximal%20lifting%20with%20slow%20exhalation.) \n",
    "\n",
    "Therefore, the reasonable blood pressure range and range for columns \"ap_hi\", \"ap_lo\" should be between 0-400, and the \"ap_hi\" should be higher than \"ap_lp\" at the same time. \n",
    "All blood pressure data out of this range should be cleaned up after further investigation."
   ]
  },
  {
   "cell_type": "code",
   "execution_count": 8,
   "id": "91b132c5",
   "metadata": {
    "scrolled": true
   },
   "outputs": [
    {
     "name": "stdout",
     "output_type": "stream",
     "text": [
      "There are 46 data out of range in 'ap_hi'\n",
      "[902, 906, -100, 909, 11500, 1420, 701, 1500, -115, 907, -100, 906, -140, -120, 14020, 14020, 1400, 1620, 907, 907, -150, 1130, 401, 16020, 1202, 806, 906, 906, 1400, 1420, 1300, -120, 14020, 14020, 1400, 1409, 11020, 960, 13010, 13010, 1300, 1110, 1205, 906, 906, 2000]\n"
     ]
    }
   ],
   "source": [
    "#How many data are out of range in \"ap_hi\"?\n",
    "outrange_hi=[]\n",
    "for pressure in df['ap_hi']:\n",
    "    if pressure<0 or pressure>400:\n",
    "        outrange_hi.append(pressure)\n",
    "print('There are',len(outrange_hi), \"\"\"data out of range in 'ap_hi'\"\"\")\n",
    "print(outrange_hi)"
   ]
  },
  {
   "cell_type": "markdown",
   "id": "3c0f960e",
   "metadata": {},
   "source": [
    "I will consider to remove these rows, because there're only observations having out of range top blood pressure."
   ]
  },
  {
   "cell_type": "code",
   "execution_count": 9,
   "id": "b69c5657",
   "metadata": {},
   "outputs": [],
   "source": [
    "#Remove out of range data in \"ap_hi\"\n",
    "df.drop(df[df.ap_hi<0].index,inplace=True)\n",
    "df.drop(df[df.ap_hi>400].index,inplace=True)"
   ]
  },
  {
   "cell_type": "code",
   "execution_count": 10,
   "id": "55ae386e",
   "metadata": {},
   "outputs": [
    {
     "data": {
      "text/html": [
       "<div>\n",
       "<style scoped>\n",
       "    .dataframe tbody tr th:only-of-type {\n",
       "        vertical-align: middle;\n",
       "    }\n",
       "\n",
       "    .dataframe tbody tr th {\n",
       "        vertical-align: top;\n",
       "    }\n",
       "\n",
       "    .dataframe thead th {\n",
       "        text-align: right;\n",
       "    }\n",
       "</style>\n",
       "<table border=\"1\" class=\"dataframe\">\n",
       "  <thead>\n",
       "    <tr style=\"text-align: right;\">\n",
       "      <th></th>\n",
       "      <th>id</th>\n",
       "      <th>age</th>\n",
       "      <th>gender</th>\n",
       "      <th>height</th>\n",
       "      <th>weight</th>\n",
       "      <th>ap_hi</th>\n",
       "      <th>ap_lo</th>\n",
       "      <th>cholesterol</th>\n",
       "      <th>gluc</th>\n",
       "      <th>smoke</th>\n",
       "      <th>alco</th>\n",
       "      <th>active</th>\n",
       "      <th>cardio</th>\n",
       "    </tr>\n",
       "  </thead>\n",
       "  <tbody>\n",
       "    <tr>\n",
       "      <th>20</th>\n",
       "      <td>1015</td>\n",
       "      <td>23407</td>\n",
       "      <td>2</td>\n",
       "      <td>170</td>\n",
       "      <td>74.0</td>\n",
       "      <td>140</td>\n",
       "      <td>1000</td>\n",
       "      <td>1</td>\n",
       "      <td>1</td>\n",
       "      <td>0</td>\n",
       "      <td>0</td>\n",
       "      <td>1</td>\n",
       "      <td>1</td>\n",
       "    </tr>\n",
       "    <tr>\n",
       "      <th>182</th>\n",
       "      <td>1229</td>\n",
       "      <td>17405</td>\n",
       "      <td>2</td>\n",
       "      <td>170</td>\n",
       "      <td>84.0</td>\n",
       "      <td>150</td>\n",
       "      <td>1100</td>\n",
       "      <td>1</td>\n",
       "      <td>1</td>\n",
       "      <td>1</td>\n",
       "      <td>0</td>\n",
       "      <td>0</td>\n",
       "      <td>1</td>\n",
       "    </tr>\n",
       "    <tr>\n",
       "      <th>228</th>\n",
       "      <td>1294</td>\n",
       "      <td>21867</td>\n",
       "      <td>2</td>\n",
       "      <td>175</td>\n",
       "      <td>70.0</td>\n",
       "      <td>14</td>\n",
       "      <td>90</td>\n",
       "      <td>3</td>\n",
       "      <td>1</td>\n",
       "      <td>0</td>\n",
       "      <td>0</td>\n",
       "      <td>1</td>\n",
       "      <td>1</td>\n",
       "    </tr>\n",
       "    <tr>\n",
       "      <th>280</th>\n",
       "      <td>1360</td>\n",
       "      <td>18225</td>\n",
       "      <td>1</td>\n",
       "      <td>172</td>\n",
       "      <td>65.0</td>\n",
       "      <td>11</td>\n",
       "      <td>80</td>\n",
       "      <td>1</td>\n",
       "      <td>3</td>\n",
       "      <td>0</td>\n",
       "      <td>0</td>\n",
       "      <td>1</td>\n",
       "      <td>0</td>\n",
       "    </tr>\n",
       "    <tr>\n",
       "      <th>301</th>\n",
       "      <td>1389</td>\n",
       "      <td>21043</td>\n",
       "      <td>2</td>\n",
       "      <td>168</td>\n",
       "      <td>82.0</td>\n",
       "      <td>160</td>\n",
       "      <td>1000</td>\n",
       "      <td>2</td>\n",
       "      <td>1</td>\n",
       "      <td>0</td>\n",
       "      <td>0</td>\n",
       "      <td>0</td>\n",
       "      <td>1</td>\n",
       "    </tr>\n",
       "    <tr>\n",
       "      <th>...</th>\n",
       "      <td>...</td>\n",
       "      <td>...</td>\n",
       "      <td>...</td>\n",
       "      <td>...</td>\n",
       "      <td>...</td>\n",
       "      <td>...</td>\n",
       "      <td>...</td>\n",
       "      <td>...</td>\n",
       "      <td>...</td>\n",
       "      <td>...</td>\n",
       "      <td>...</td>\n",
       "      <td>...</td>\n",
       "      <td>...</td>\n",
       "    </tr>\n",
       "    <tr>\n",
       "      <th>69072</th>\n",
       "      <td>99659</td>\n",
       "      <td>23330</td>\n",
       "      <td>1</td>\n",
       "      <td>167</td>\n",
       "      <td>81.0</td>\n",
       "      <td>160</td>\n",
       "      <td>1000</td>\n",
       "      <td>1</td>\n",
       "      <td>1</td>\n",
       "      <td>0</td>\n",
       "      <td>0</td>\n",
       "      <td>1</td>\n",
       "      <td>1</td>\n",
       "    </tr>\n",
       "    <tr>\n",
       "      <th>69173</th>\n",
       "      <td>99798</td>\n",
       "      <td>21808</td>\n",
       "      <td>1</td>\n",
       "      <td>152</td>\n",
       "      <td>56.0</td>\n",
       "      <td>160</td>\n",
       "      <td>1000</td>\n",
       "      <td>1</td>\n",
       "      <td>1</td>\n",
       "      <td>0</td>\n",
       "      <td>0</td>\n",
       "      <td>1</td>\n",
       "      <td>1</td>\n",
       "    </tr>\n",
       "    <tr>\n",
       "      <th>69179</th>\n",
       "      <td>99807</td>\n",
       "      <td>21239</td>\n",
       "      <td>2</td>\n",
       "      <td>168</td>\n",
       "      <td>95.0</td>\n",
       "      <td>160</td>\n",
       "      <td>1000</td>\n",
       "      <td>1</td>\n",
       "      <td>1</td>\n",
       "      <td>0</td>\n",
       "      <td>0</td>\n",
       "      <td>1</td>\n",
       "      <td>1</td>\n",
       "    </tr>\n",
       "    <tr>\n",
       "      <th>69186</th>\n",
       "      <td>99816</td>\n",
       "      <td>22417</td>\n",
       "      <td>2</td>\n",
       "      <td>166</td>\n",
       "      <td>78.0</td>\n",
       "      <td>170</td>\n",
       "      <td>1000</td>\n",
       "      <td>1</td>\n",
       "      <td>1</td>\n",
       "      <td>0</td>\n",
       "      <td>0</td>\n",
       "      <td>0</td>\n",
       "      <td>0</td>\n",
       "    </tr>\n",
       "    <tr>\n",
       "      <th>69268</th>\n",
       "      <td>99955</td>\n",
       "      <td>21416</td>\n",
       "      <td>2</td>\n",
       "      <td>168</td>\n",
       "      <td>63.0</td>\n",
       "      <td>140</td>\n",
       "      <td>1000</td>\n",
       "      <td>1</td>\n",
       "      <td>1</td>\n",
       "      <td>0</td>\n",
       "      <td>0</td>\n",
       "      <td>1</td>\n",
       "      <td>1</td>\n",
       "    </tr>\n",
       "  </tbody>\n",
       "</table>\n",
       "<p>1214 rows × 13 columns</p>\n",
       "</div>"
      ],
      "text/plain": [
       "          id    age  gender  height  weight  ap_hi  ap_lo  cholesterol  gluc  \\\n",
       "20      1015  23407       2     170    74.0    140   1000            1     1   \n",
       "182     1229  17405       2     170    84.0    150   1100            1     1   \n",
       "228     1294  21867       2     175    70.0     14     90            3     1   \n",
       "280     1360  18225       1     172    65.0     11     80            1     3   \n",
       "301     1389  21043       2     168    82.0    160   1000            2     1   \n",
       "...      ...    ...     ...     ...     ...    ...    ...          ...   ...   \n",
       "69072  99659  23330       1     167    81.0    160   1000            1     1   \n",
       "69173  99798  21808       1     152    56.0    160   1000            1     1   \n",
       "69179  99807  21239       2     168    95.0    160   1000            1     1   \n",
       "69186  99816  22417       2     166    78.0    170   1000            1     1   \n",
       "69268  99955  21416       2     168    63.0    140   1000            1     1   \n",
       "\n",
       "       smoke  alco  active  cardio  \n",
       "20         0     0       1       1  \n",
       "182        1     0       0       1  \n",
       "228        0     0       1       1  \n",
       "280        0     0       1       0  \n",
       "301        0     0       0       1  \n",
       "...      ...   ...     ...     ...  \n",
       "69072      0     0       1       1  \n",
       "69173      0     0       1       1  \n",
       "69179      0     0       1       1  \n",
       "69186      0     0       0       0  \n",
       "69268      0     0       1       1  \n",
       "\n",
       "[1214 rows x 13 columns]"
      ]
     },
     "execution_count": 10,
     "metadata": {},
     "output_type": "execute_result"
    }
   ],
   "source": [
    "#Check how many observations are ap_hi lower than or ap_lo?\n",
    "df.query('ap_hi<ap_lo')"
   ]
  },
  {
   "cell_type": "markdown",
   "id": "5abcefb6",
   "metadata": {},
   "source": [
    "From the table above, it seems like the reason why the situation that top blood pressure higher than bottom blood pressure is due to unreasonable bottomw blood pressure. The bottom pressure data needs to be further investigated. "
   ]
  },
  {
   "cell_type": "code",
   "execution_count": 11,
   "id": "dd984309",
   "metadata": {},
   "outputs": [
    {
     "name": "stdout",
     "output_type": "stream",
     "text": [
      "There are 944 data out of range in 'ap_lo'\n"
     ]
    }
   ],
   "source": [
    "# Check how many abnormal bottom blood presure we have before removing the observations \"ap_hi\" lower than \"ap_lo\"\n",
    "outrange_lo=[]\n",
    "for pressure in df['ap_lo']:\n",
    "    if pressure<0 or pressure>400:\n",
    "        outrange_lo.append(pressure)\n",
    "print('There are',len(outrange_lo), \"\"\"data out of range in 'ap_lo'\"\"\")"
   ]
  },
  {
   "cell_type": "code",
   "execution_count": 12,
   "id": "a61cb51e",
   "metadata": {},
   "outputs": [],
   "source": [
    "# Remove the observations \"ap_hi\" lower than \"ap_lo\"\n",
    "df.drop(df[df.ap_hi<df.ap_lo].index,inplace=True)"
   ]
  },
  {
   "cell_type": "code",
   "execution_count": 13,
   "id": "4b130590",
   "metadata": {},
   "outputs": [
    {
     "name": "stdout",
     "output_type": "stream",
     "text": [
      "There are 1 data out of range in 'ap_lo'\n",
      "[-70]\n"
     ]
    }
   ],
   "source": [
    "# Check how many abnormal bottom blood presure we have after removing the observations \"ap_hi\" lower than \"ap_lo\"\n",
    "outrange_lo=[]\n",
    "for pressure in df['ap_lo']:\n",
    "    if pressure<0 or pressure>400:\n",
    "        outrange_lo.append(pressure)\n",
    "print('There are',len(outrange_lo), \"\"\"data out of range in 'ap_lo'\"\"\")\n",
    "print(outrange_lo)"
   ]
  },
  {
   "cell_type": "code",
   "execution_count": 14,
   "id": "c2ab7eb7",
   "metadata": {},
   "outputs": [],
   "source": [
    "#Remove the only 1 abnormal data from \"ap_lo\" column\n",
    "df.drop(df[df.ap_lo<0].index,inplace=True)"
   ]
  },
  {
   "cell_type": "code",
   "execution_count": 15,
   "id": "0ecff2a8",
   "metadata": {
    "scrolled": true
   },
   "outputs": [
    {
     "data": {
      "text/html": [
       "<div>\n",
       "<style scoped>\n",
       "    .dataframe tbody tr th:only-of-type {\n",
       "        vertical-align: middle;\n",
       "    }\n",
       "\n",
       "    .dataframe tbody tr th {\n",
       "        vertical-align: top;\n",
       "    }\n",
       "\n",
       "    .dataframe thead th {\n",
       "        text-align: right;\n",
       "    }\n",
       "</style>\n",
       "<table border=\"1\" class=\"dataframe\">\n",
       "  <thead>\n",
       "    <tr style=\"text-align: right;\">\n",
       "      <th></th>\n",
       "      <th>id</th>\n",
       "      <th>age</th>\n",
       "      <th>gender</th>\n",
       "      <th>height</th>\n",
       "      <th>weight</th>\n",
       "      <th>ap_hi</th>\n",
       "      <th>ap_lo</th>\n",
       "      <th>cholesterol</th>\n",
       "      <th>gluc</th>\n",
       "      <th>smoke</th>\n",
       "      <th>alco</th>\n",
       "      <th>active</th>\n",
       "      <th>cardio</th>\n",
       "    </tr>\n",
       "  </thead>\n",
       "  <tbody>\n",
       "    <tr>\n",
       "      <th>count</th>\n",
       "      <td>68040.000000</td>\n",
       "      <td>68040.000000</td>\n",
       "      <td>68040.000000</td>\n",
       "      <td>68040.000000</td>\n",
       "      <td>68040.000000</td>\n",
       "      <td>68040.000000</td>\n",
       "      <td>68040.000000</td>\n",
       "      <td>68040.000000</td>\n",
       "      <td>68040.000000</td>\n",
       "      <td>68040.000000</td>\n",
       "      <td>68040.000000</td>\n",
       "      <td>68040.000000</td>\n",
       "      <td>68040.000000</td>\n",
       "    </tr>\n",
       "    <tr>\n",
       "      <th>mean</th>\n",
       "      <td>50473.258069</td>\n",
       "      <td>19464.189550</td>\n",
       "      <td>1.348574</td>\n",
       "      <td>164.362566</td>\n",
       "      <td>74.114289</td>\n",
       "      <td>126.662404</td>\n",
       "      <td>81.254541</td>\n",
       "      <td>1.364565</td>\n",
       "      <td>1.225573</td>\n",
       "      <td>0.087860</td>\n",
       "      <td>0.053439</td>\n",
       "      <td>0.803645</td>\n",
       "      <td>0.494577</td>\n",
       "    </tr>\n",
       "    <tr>\n",
       "      <th>std</th>\n",
       "      <td>28555.101393</td>\n",
       "      <td>2468.204877</td>\n",
       "      <td>0.476522</td>\n",
       "      <td>8.186421</td>\n",
       "      <td>14.319866</td>\n",
       "      <td>16.734223</td>\n",
       "      <td>9.645665</td>\n",
       "      <td>0.678883</td>\n",
       "      <td>0.571391</td>\n",
       "      <td>0.283093</td>\n",
       "      <td>0.224909</td>\n",
       "      <td>0.397243</td>\n",
       "      <td>0.499974</td>\n",
       "    </tr>\n",
       "    <tr>\n",
       "      <th>min</th>\n",
       "      <td>988.000000</td>\n",
       "      <td>10798.000000</td>\n",
       "      <td>1.000000</td>\n",
       "      <td>55.000000</td>\n",
       "      <td>11.000000</td>\n",
       "      <td>12.000000</td>\n",
       "      <td>0.000000</td>\n",
       "      <td>1.000000</td>\n",
       "      <td>1.000000</td>\n",
       "      <td>0.000000</td>\n",
       "      <td>0.000000</td>\n",
       "      <td>0.000000</td>\n",
       "      <td>0.000000</td>\n",
       "    </tr>\n",
       "    <tr>\n",
       "      <th>25%</th>\n",
       "      <td>25742.750000</td>\n",
       "      <td>17658.000000</td>\n",
       "      <td>1.000000</td>\n",
       "      <td>159.000000</td>\n",
       "      <td>65.000000</td>\n",
       "      <td>120.000000</td>\n",
       "      <td>80.000000</td>\n",
       "      <td>1.000000</td>\n",
       "      <td>1.000000</td>\n",
       "      <td>0.000000</td>\n",
       "      <td>0.000000</td>\n",
       "      <td>1.000000</td>\n",
       "      <td>0.000000</td>\n",
       "    </tr>\n",
       "    <tr>\n",
       "      <th>50%</th>\n",
       "      <td>50505.500000</td>\n",
       "      <td>19702.000000</td>\n",
       "      <td>1.000000</td>\n",
       "      <td>165.000000</td>\n",
       "      <td>72.000000</td>\n",
       "      <td>120.000000</td>\n",
       "      <td>80.000000</td>\n",
       "      <td>1.000000</td>\n",
       "      <td>1.000000</td>\n",
       "      <td>0.000000</td>\n",
       "      <td>0.000000</td>\n",
       "      <td>1.000000</td>\n",
       "      <td>0.000000</td>\n",
       "    </tr>\n",
       "    <tr>\n",
       "      <th>75%</th>\n",
       "      <td>75121.500000</td>\n",
       "      <td>21323.000000</td>\n",
       "      <td>2.000000</td>\n",
       "      <td>170.000000</td>\n",
       "      <td>82.000000</td>\n",
       "      <td>140.000000</td>\n",
       "      <td>90.000000</td>\n",
       "      <td>1.000000</td>\n",
       "      <td>1.000000</td>\n",
       "      <td>0.000000</td>\n",
       "      <td>0.000000</td>\n",
       "      <td>1.000000</td>\n",
       "      <td>1.000000</td>\n",
       "    </tr>\n",
       "    <tr>\n",
       "      <th>max</th>\n",
       "      <td>99999.000000</td>\n",
       "      <td>23713.000000</td>\n",
       "      <td>2.000000</td>\n",
       "      <td>250.000000</td>\n",
       "      <td>200.000000</td>\n",
       "      <td>309.000000</td>\n",
       "      <td>182.000000</td>\n",
       "      <td>3.000000</td>\n",
       "      <td>3.000000</td>\n",
       "      <td>1.000000</td>\n",
       "      <td>1.000000</td>\n",
       "      <td>1.000000</td>\n",
       "      <td>1.000000</td>\n",
       "    </tr>\n",
       "  </tbody>\n",
       "</table>\n",
       "</div>"
      ],
      "text/plain": [
       "                 id           age        gender        height        weight  \\\n",
       "count  68040.000000  68040.000000  68040.000000  68040.000000  68040.000000   \n",
       "mean   50473.258069  19464.189550      1.348574    164.362566     74.114289   \n",
       "std    28555.101393   2468.204877      0.476522      8.186421     14.319866   \n",
       "min      988.000000  10798.000000      1.000000     55.000000     11.000000   \n",
       "25%    25742.750000  17658.000000      1.000000    159.000000     65.000000   \n",
       "50%    50505.500000  19702.000000      1.000000    165.000000     72.000000   \n",
       "75%    75121.500000  21323.000000      2.000000    170.000000     82.000000   \n",
       "max    99999.000000  23713.000000      2.000000    250.000000    200.000000   \n",
       "\n",
       "              ap_hi         ap_lo   cholesterol          gluc         smoke  \\\n",
       "count  68040.000000  68040.000000  68040.000000  68040.000000  68040.000000   \n",
       "mean     126.662404     81.254541      1.364565      1.225573      0.087860   \n",
       "std       16.734223      9.645665      0.678883      0.571391      0.283093   \n",
       "min       12.000000      0.000000      1.000000      1.000000      0.000000   \n",
       "25%      120.000000     80.000000      1.000000      1.000000      0.000000   \n",
       "50%      120.000000     80.000000      1.000000      1.000000      0.000000   \n",
       "75%      140.000000     90.000000      1.000000      1.000000      0.000000   \n",
       "max      309.000000    182.000000      3.000000      3.000000      1.000000   \n",
       "\n",
       "               alco        active        cardio  \n",
       "count  68040.000000  68040.000000  68040.000000  \n",
       "mean       0.053439      0.803645      0.494577  \n",
       "std        0.224909      0.397243      0.499974  \n",
       "min        0.000000      0.000000      0.000000  \n",
       "25%        0.000000      1.000000      0.000000  \n",
       "50%        0.000000      1.000000      0.000000  \n",
       "75%        0.000000      1.000000      1.000000  \n",
       "max        1.000000      1.000000      1.000000  "
      ]
     },
     "execution_count": 15,
     "metadata": {},
     "output_type": "execute_result"
    }
   ],
   "source": [
    "# Check the dataset description again\n",
    "df.describe(include='all')"
   ]
  },
  {
   "cell_type": "code",
   "execution_count": 16,
   "id": "93251caa",
   "metadata": {},
   "outputs": [],
   "source": [
    "# x,y split\n",
    "x=df[num_vars+cat3_vars+bin_vars]\n",
    "y=df[target]"
   ]
  },
  {
   "cell_type": "markdown",
   "id": "988e2967",
   "metadata": {},
   "source": [
    "# 2. Build the logistic regression model"
   ]
  },
  {
   "cell_type": "code",
   "execution_count": 17,
   "id": "59154d60",
   "metadata": {},
   "outputs": [],
   "source": [
    "# Build the logistic regression model first, before that, split train and test first:\n",
    "from sklearn.model_selection import train_test_split\n",
    "from sklearn.linear_model import LogisticRegression\n",
    "from sklearn.metrics import roc_auc_score, confusion_matrix, RocCurveDisplay\n",
    "import matplotlib.pyplot as plt\n",
    "from sklearn.pipeline import Pipeline\n",
    "from sklearn.model_selection import GridSearchCV\n",
    "from sklearn.ensemble import GradientBoostingClassifier, RandomForestClassifier\n",
    "x_train, x_test, y_train, y_test = train_test_split(x, y, test_size=0.2, random_state=4)"
   ]
  },
  {
   "cell_type": "code",
   "execution_count": 18,
   "id": "3a823f84",
   "metadata": {},
   "outputs": [],
   "source": [
    "log_reg = LogisticRegression(random_state=4,solver='lbfgs', max_iter=5000)"
   ]
  },
  {
   "cell_type": "code",
   "execution_count": 19,
   "id": "cff1bff2",
   "metadata": {},
   "outputs": [],
   "source": [
    "logfit=log_reg.fit(x_train, y_train)"
   ]
  },
  {
   "cell_type": "code",
   "execution_count": 20,
   "id": "8925450d",
   "metadata": {},
   "outputs": [],
   "source": [
    "log_pred=logfit.predict_proba(x_test)"
   ]
  },
  {
   "cell_type": "code",
   "execution_count": 21,
   "id": "967d8af8",
   "metadata": {},
   "outputs": [
    {
     "data": {
      "text/plain": [
       "0.7702861534063976"
      ]
     },
     "execution_count": 21,
     "metadata": {},
     "output_type": "execute_result"
    }
   ],
   "source": [
    "roc_auc_score(y_test, log_pred[:,1])"
   ]
  },
  {
   "cell_type": "code",
   "execution_count": 23,
   "id": "988667c6",
   "metadata": {},
   "outputs": [
    {
     "name": "stdout",
     "output_type": "stream",
     "text": [
      "Coeffients are in Logistic Regression Model: [[ 7.71187371e-05 -5.83724721e-02  1.51208109e-02  5.02693323e-02\n",
      "  -3.83810795e-04  1.45866860e-01  4.12444181e-01  6.26624600e-02\n",
      "   1.28551389e-02 -1.14246617e-02 -1.31524809e-01]]\n"
     ]
    }
   ],
   "source": [
    "print(\"Coeffients are in Logistic Regression Model:\",logfit.coef_)"
   ]
  },
  {
   "cell_type": "code",
   "execution_count": 24,
   "id": "a7e4066f",
   "metadata": {},
   "outputs": [
    {
     "data": {
      "image/png": "[encoded data removed]",
      "text/plain": [
       "<Figure size 800x800 with 1 Axes>"
      ]
     },
     "metadata": {},
     "output_type": "display_data"
    }
   ],
   "source": [
    "#getting feature importance\n",
    "log_importance=logfit.coef_.flatten()\n",
    "#barplot of features\n",
    "import matplotlib.pyplot as plt\n",
    "plt.rcParams[\"figure.figsize\"]=(8,8)\n",
    "plt.barh(x_test.columns,log_importance)\n",
    "plt.title(\"Barplot summary of feature in Logtistic Regression\")\n",
    "plt.xlabel(\"score\")\n",
    "plt.show()"
   ]
  },
  {
   "cell_type": "markdown",
   "id": "1cefff19",
   "metadata": {},
   "source": [
    "# 3 Build the Gradient Boosting Model"
   ]
  },
  {
   "cell_type": "code",
   "execution_count": 25,
   "id": "5b465808",
   "metadata": {},
   "outputs": [],
   "source": [
    "param_grid = {'learning_rate': [0.1, 0.05], 'n_estimators': [100, 1000]}"
   ]
  },
  {
   "cell_type": "code",
   "execution_count": 26,
   "id": "328af687",
   "metadata": {},
   "outputs": [],
   "source": [
    "from sklearn.preprocessing import OneHotEncoder\n",
    "from sklearn.impute import SimpleImputer\n",
    "from sklearn.compose import ColumnTransformer\n",
    "numeric_tx = Pipeline(steps=[\n",
    "    ('imputer', SimpleImputer(strategy='median')),\n",
    "])\n",
    "cat_tx = Pipeline(steps=[\n",
    "    ('imputer', SimpleImputer(strategy='most_frequent')),\n",
    "    ('encoder', OneHotEncoder(handle_unknown='ignore'))\n",
    "])"
   ]
  },
  {
   "cell_type": "code",
   "execution_count": 27,
   "id": "49bd95a9",
   "metadata": {},
   "outputs": [],
   "source": [
    "preprocessor = ColumnTransformer(transformers=[\n",
    "    ('numeric', numeric_tx, num_vars),\n",
    "    ('binary', cat_tx, bin_vars),\n",
    "    ('3cat', cat_tx, cat3_vars)\n",
    "])"
   ]
  },
  {
   "cell_type": "code",
   "execution_count": 28,
   "id": "8ad03958",
   "metadata": {},
   "outputs": [],
   "source": [
    "gbm = GradientBoostingClassifier()\n",
    "gbmsearch = GridSearchCV(gbm, param_grid, scoring='roc_auc')"
   ]
  },
  {
   "cell_type": "code",
   "execution_count": 29,
   "id": "f6d12044",
   "metadata": {},
   "outputs": [
    {
     "name": "stderr",
     "output_type": "stream",
     "text": [
      "C:\\Users\\zihui\\anaconda3\\lib\\site-packages\\sklearn\\impute\\_base.py:49: FutureWarning: Unlike other reduction functions (e.g. `skew`, `kurtosis`), the default behavior of `mode` typically preserves the axis it acts along. In SciPy 1.11.0, this behavior will change: the default value of `keepdims` will become False, the `axis` over which the statistic is taken will be eliminated, and the value None will no longer be accepted. Set `keepdims` to True or False to avoid this warning.\n",
      "  mode = stats.mode(array)\n",
      "C:\\Users\\zihui\\anaconda3\\lib\\site-packages\\sklearn\\impute\\_base.py:49: FutureWarning: Unlike other reduction functions (e.g. `skew`, `kurtosis`), the default behavior of `mode` typically preserves the axis it acts along. In SciPy 1.11.0, this behavior will change: the default value of `keepdims` will become False, the `axis` over which the statistic is taken will be eliminated, and the value None will no longer be accepted. Set `keepdims` to True or False to avoid this warning.\n",
      "  mode = stats.mode(array)\n"
     ]
    }
   ],
   "source": [
    "gbmpipe = Pipeline(steps=[('preprocessor', preprocessor), ('classifier', gbmsearch)])\n",
    "gbmfit = gbmpipe.fit(x_train, y_train)\n",
    "gbmpreds = gbmfit.predict_proba(x_test)"
   ]
  },
  {
   "cell_type": "code",
   "execution_count": 30,
   "id": "23bfce60",
   "metadata": {},
   "outputs": [
    {
     "data": {
      "text/html": [
       "<div>\n",
       "<style scoped>\n",
       "    .dataframe tbody tr th:only-of-type {\n",
       "        vertical-align: middle;\n",
       "    }\n",
       "\n",
       "    .dataframe tbody tr th {\n",
       "        vertical-align: top;\n",
       "    }\n",
       "\n",
       "    .dataframe thead th {\n",
       "        text-align: right;\n",
       "    }\n",
       "</style>\n",
       "<table border=\"1\" class=\"dataframe\">\n",
       "  <thead>\n",
       "    <tr style=\"text-align: right;\">\n",
       "      <th></th>\n",
       "      <th>mean_fit_time</th>\n",
       "      <th>std_fit_time</th>\n",
       "      <th>mean_score_time</th>\n",
       "      <th>std_score_time</th>\n",
       "      <th>param_learning_rate</th>\n",
       "      <th>param_n_estimators</th>\n",
       "      <th>params</th>\n",
       "      <th>split0_test_score</th>\n",
       "      <th>split1_test_score</th>\n",
       "      <th>split2_test_score</th>\n",
       "      <th>split3_test_score</th>\n",
       "      <th>split4_test_score</th>\n",
       "      <th>mean_test_score</th>\n",
       "      <th>std_test_score</th>\n",
       "      <th>rank_test_score</th>\n",
       "    </tr>\n",
       "  </thead>\n",
       "  <tbody>\n",
       "    <tr>\n",
       "      <th>0</th>\n",
       "      <td>4.638906</td>\n",
       "      <td>0.138733</td>\n",
       "      <td>0.018726</td>\n",
       "      <td>0.006252</td>\n",
       "      <td>0.1</td>\n",
       "      <td>100</td>\n",
       "      <td>{'learning_rate': 0.1, 'n_estimators': 100}</td>\n",
       "      <td>0.805667</td>\n",
       "      <td>0.797497</td>\n",
       "      <td>0.801790</td>\n",
       "      <td>0.801064</td>\n",
       "      <td>0.796293</td>\n",
       "      <td>0.800462</td>\n",
       "      <td>0.003328</td>\n",
       "      <td>1</td>\n",
       "    </tr>\n",
       "    <tr>\n",
       "      <th>1</th>\n",
       "      <td>46.655091</td>\n",
       "      <td>0.673911</td>\n",
       "      <td>0.101431</td>\n",
       "      <td>0.007013</td>\n",
       "      <td>0.1</td>\n",
       "      <td>1000</td>\n",
       "      <td>{'learning_rate': 0.1, 'n_estimators': 1000}</td>\n",
       "      <td>0.800871</td>\n",
       "      <td>0.794032</td>\n",
       "      <td>0.797463</td>\n",
       "      <td>0.797270</td>\n",
       "      <td>0.792626</td>\n",
       "      <td>0.796452</td>\n",
       "      <td>0.002888</td>\n",
       "      <td>4</td>\n",
       "    </tr>\n",
       "    <tr>\n",
       "      <th>2</th>\n",
       "      <td>4.959707</td>\n",
       "      <td>0.289416</td>\n",
       "      <td>0.028125</td>\n",
       "      <td>0.011671</td>\n",
       "      <td>0.05</td>\n",
       "      <td>100</td>\n",
       "      <td>{'learning_rate': 0.05, 'n_estimators': 100}</td>\n",
       "      <td>0.804794</td>\n",
       "      <td>0.796817</td>\n",
       "      <td>0.800477</td>\n",
       "      <td>0.799542</td>\n",
       "      <td>0.795324</td>\n",
       "      <td>0.799391</td>\n",
       "      <td>0.003273</td>\n",
       "      <td>2</td>\n",
       "    </tr>\n",
       "    <tr>\n",
       "      <th>3</th>\n",
       "      <td>47.227091</td>\n",
       "      <td>2.038362</td>\n",
       "      <td>0.112479</td>\n",
       "      <td>0.006258</td>\n",
       "      <td>0.05</td>\n",
       "      <td>1000</td>\n",
       "      <td>{'learning_rate': 0.05, 'n_estimators': 1000}</td>\n",
       "      <td>0.803257</td>\n",
       "      <td>0.796169</td>\n",
       "      <td>0.800835</td>\n",
       "      <td>0.799958</td>\n",
       "      <td>0.795040</td>\n",
       "      <td>0.799052</td>\n",
       "      <td>0.003036</td>\n",
       "      <td>3</td>\n",
       "    </tr>\n",
       "  </tbody>\n",
       "</table>\n",
       "</div>"
      ],
      "text/plain": [
       "   mean_fit_time  std_fit_time  mean_score_time  std_score_time  \\\n",
       "0       4.638906      0.138733         0.018726        0.006252   \n",
       "1      46.655091      0.673911         0.101431        0.007013   \n",
       "2       4.959707      0.289416         0.028125        0.011671   \n",
       "3      47.227091      2.038362         0.112479        0.006258   \n",
       "\n",
       "  param_learning_rate param_n_estimators  \\\n",
       "0                 0.1                100   \n",
       "1                 0.1               1000   \n",
       "2                0.05                100   \n",
       "3                0.05               1000   \n",
       "\n",
       "                                          params  split0_test_score  \\\n",
       "0    {'learning_rate': 0.1, 'n_estimators': 100}           0.805667   \n",
       "1   {'learning_rate': 0.1, 'n_estimators': 1000}           0.800871   \n",
       "2   {'learning_rate': 0.05, 'n_estimators': 100}           0.804794   \n",
       "3  {'learning_rate': 0.05, 'n_estimators': 1000}           0.803257   \n",
       "\n",
       "   split1_test_score  split2_test_score  split3_test_score  split4_test_score  \\\n",
       "0           0.797497           0.801790           0.801064           0.796293   \n",
       "1           0.794032           0.797463           0.797270           0.792626   \n",
       "2           0.796817           0.800477           0.799542           0.795324   \n",
       "3           0.796169           0.800835           0.799958           0.795040   \n",
       "\n",
       "   mean_test_score  std_test_score  rank_test_score  \n",
       "0         0.800462        0.003328                1  \n",
       "1         0.796452        0.002888                4  \n",
       "2         0.799391        0.003273                2  \n",
       "3         0.799052        0.003036                3  "
      ]
     },
     "execution_count": 30,
     "metadata": {},
     "output_type": "execute_result"
    }
   ],
   "source": [
    "pd.DataFrame(gbmsearch.cv_results_)"
   ]
  },
  {
   "cell_type": "markdown",
   "id": "3d384d18",
   "metadata": {},
   "source": [
    "From the results, when the hyperparameters as learning rate=0.1, n_estimators=100 of Gradient Boosting Regression model, we can get better GBM model as shown above."
   ]
  },
  {
   "cell_type": "code",
   "execution_count": 31,
   "id": "3c2afb60",
   "metadata": {},
   "outputs": [
    {
     "data": {
      "image/png": "[encoded data removed]",
      "text/plain": [
       "<Figure size 1200x600 with 1 Axes>"
      ]
     },
     "metadata": {},
     "output_type": "display_data"
    }
   ],
   "source": [
    "import numpy as np\n",
    "gbmbestfit=GradientBoostingClassifier(learning_rate=0.1,n_estimators=100).fit(x_train, y_train)\n",
    "gbm_importance=gbmbestfit.feature_importances_\n",
    "gbm_importance = 100.0 * (gbm_importance / gbm_importance.max())\n",
    "sorted_idx = np.argsort(gbm_importance)\n",
    "pos = np.arange(sorted_idx.shape[0]) + .5\n",
    "plt.figure(figsize=(12, 6))\n",
    "plt.barh(pos, gbm_importance[sorted_idx], align='center')\n",
    "plt.yticks(pos, x_train.keys()[sorted_idx])\n",
    "plt.xlabel('Relative Importance')\n",
    "plt.title('Variable Importance')\n",
    "plt.show()"
   ]
  },
  {
   "cell_type": "code",
   "execution_count": 32,
   "id": "decce583",
   "metadata": {},
   "outputs": [
    {
     "data": {
      "text/plain": [
       "0.8007335295696983"
      ]
     },
     "execution_count": 32,
     "metadata": {},
     "output_type": "execute_result"
    }
   ],
   "source": [
    "gbm_pred=gbmbestfit.predict_proba(x_test)\n",
    "roc_auc_score(y_test, gbm_pred[:,1])"
   ]
  },
  {
   "cell_type": "code",
   "execution_count": 33,
   "id": "055e04eb",
   "metadata": {},
   "outputs": [],
   "source": [
    "# Compare AUC Score of Logistic Regression and Gradient Boosting Classifier\n",
    "Model_list=[log_reg,gbm]"
   ]
  },
  {
   "cell_type": "code",
   "execution_count": 37,
   "id": "dcbfc1e4",
   "metadata": {},
   "outputs": [
    {
     "name": "stdout",
     "output_type": "stream",
     "text": [
      "0.7702861534063976\n"
     ]
    },
    {
     "data": {
      "image/png": "[encoded data removed]",
      "text/plain": [
       "<Figure size 800x800 with 1 Axes>"
      ]
     },
     "metadata": {},
     "output_type": "display_data"
    },
    {
     "name": "stdout",
     "output_type": "stream",
     "text": [
      "0.8007338753631885\n"
     ]
    },
    {
     "data": {
      "image/png": "[encoded data removed]",
      "text/plain": [
       "<Figure size 800x800 with 1 Axes>"
      ]
     },
     "metadata": {},
     "output_type": "display_data"
    }
   ],
   "source": [
    "for model in Model_list:\n",
    "    pipeline=Pipeline([('Classifier',model)])\n",
    "    model_pipeline=pipeline.fit(x_train,y_train)\n",
    "    preds=model_pipeline.predict_proba(x_test)\n",
    "    print(roc_auc_score(y_test, preds[:,1]))\n",
    "    RocCurveDisplay.from_predictions(\n",
    "    y_test,\n",
    "    preds[:,1],\n",
    "    name='ROC Curve',color=\"darkorange\")\n",
    "    plt.plot([0, 1], [0, 1], \"k--\", label=\"chance level (AUC = 0.5)\")\n",
    "    plt.axis(\"square\")\n",
    "    plt.xlabel(\"False Positive Rate\")\n",
    "    plt.ylabel(\"True Positive Rate\")\n",
    "    plt.title(\"ROC Curve\")\n",
    "    plt.legend()\n",
    "    plt.show()"
   ]
  },
  {
   "cell_type": "markdown",
   "id": "072c8958",
   "metadata": {},
   "source": [
    "# 4. Build model by Deep Neural Network"
   ]
  },
  {
   "cell_type": "code",
   "execution_count": 37,
   "id": "3d66a25f",
   "metadata": {},
   "outputs": [],
   "source": [
    "import math\n",
    "import torch\n",
    "import torch.nn as nn\n",
    "from torch.utils.data import Dataset, DataLoader"
   ]
  },
  {
   "cell_type": "code",
   "execution_count": 38,
   "id": "a374d52e",
   "metadata": {},
   "outputs": [],
   "source": [
    "#feature scaling\n",
    "from sklearn.preprocessing import StandardScaler\n",
    "sc = StandardScaler()\n",
    "train_xdataset= sc.fit_transform(x_train)\n",
    "test_xdataset= sc.fit_transform(x_test)"
   ]
  },
  {
   "cell_type": "code",
   "execution_count": 42,
   "id": "ba9cf213",
   "metadata": {},
   "outputs": [],
   "source": [
    "class CardioDataset(Dataset):\n",
    "    def __init__(self, x,y):\n",
    "        # data loading\n",
    "        self.x = torch.tensor(x,dtype=torch.float32)\n",
    "        self.y = torch.tensor(y.values,dtype=torch.float32).view([-1,1])\n",
    "        self.n_samples = self.x.shape[0]\n",
    "    def __getitem__(self, index):\n",
    "        # dataset[0]\n",
    "        return self.x[index], self.y[index]\n",
    "    def __len__(self):\n",
    "        # len(dataset)\n",
    "        return self.n_samples"
   ]
  },
  {
   "cell_type": "code",
   "execution_count": 43,
   "id": "75d02cfa",
   "metadata": {},
   "outputs": [],
   "source": [
    "ds_train = CardioDataset(train_xdataset,y_train)\n",
    "ds_test = CardioDataset(test_xdataset,y_test)\n",
    "train_dataloader = DataLoader(dataset=ds_train, batch_size=4, shuffle=True)\n",
    "test_dataloader = DataLoader(dataset=ds_test, batch_size=4, shuffle=False)     "
   ]
  },
  {
   "cell_type": "code",
   "execution_count": 44,
   "id": "c027daa8",
   "metadata": {},
   "outputs": [
    {
     "name": "stdout",
     "output_type": "stream",
     "text": [
      "Shape of X [N, C, H, W]: torch.Size([4, 11])\n",
      "Shape of y: torch.Size([4, 1]) torch.float32\n"
     ]
    }
   ],
   "source": [
    "for X, y in test_dataloader:\n",
    "    print(f\"Shape of X [N, C, H, W]: {X.shape}\")\n",
    "    print(f\"Shape of y: {y.shape} {y.dtype}\")\n",
    "    break"
   ]
  },
  {
   "cell_type": "code",
   "execution_count": 45,
   "id": "c5693ec0",
   "metadata": {},
   "outputs": [
    {
     "name": "stdout",
     "output_type": "stream",
     "text": [
      "NeuralNetwork(\n",
      "  (linear_relu_stack): Sequential(\n",
      "    (0): Linear(in_features=11, out_features=32, bias=True)\n",
      "    (1): ReLU()\n",
      "    (2): Linear(in_features=32, out_features=32, bias=True)\n",
      "    (3): ReLU()\n",
      "    (4): Linear(in_features=32, out_features=1, bias=True)\n",
      "    (5): Sigmoid()\n",
      "  )\n",
      ")\n"
     ]
    }
   ],
   "source": [
    "# Build Neural Network\n",
    "class NeuralNetwork(nn.Module):\n",
    "    def __init__(self):\n",
    "        super().__init__()\n",
    "        # There're 11 features based on the description of the dataset\n",
    "        self.linear_relu_stack = nn.Sequential(\n",
    "            nn.Linear(11, 32),\n",
    "            nn.ReLU(),\n",
    "            nn.Linear(32, 32),\n",
    "            nn.ReLU(),\n",
    "            nn.Linear(32, 1),\n",
    "            nn.Sigmoid()\n",
    "        )\n",
    "\n",
    "    def forward(self, x):\n",
    "        logitnn = self.linear_relu_stack(x)\n",
    "        return logitnn\n",
    "model = NeuralNetwork()\n",
    "print(model)"
   ]
  },
  {
   "cell_type": "code",
   "execution_count": 68,
   "id": "b7e6ef04",
   "metadata": {},
   "outputs": [],
   "source": [
    "model=NeuralNetwork()\n",
    "loss_fn = nn.BCELoss()\n",
    "optimizer = torch.optim.Adam(model.parameters(), lr=1e-3)"
   ]
  },
  {
   "cell_type": "code",
   "execution_count": 53,
   "id": "6da9e546",
   "metadata": {},
   "outputs": [],
   "source": [
    "model=NeuralNetwork()\n",
    "loss_fn = nn.MSELoss()\n",
    "learning_rate = 0.0001\n",
    "optimizer = torch.optim.SGD(model.parameters(), lr=learning_rate)"
   ]
  },
  {
   "cell_type": "code",
   "execution_count": 69,
   "id": "a4fd837f",
   "metadata": {},
   "outputs": [],
   "source": [
    "# Define Training and Testing procedure\n",
    "def train_loop(dataloader, model, loss_fn, optimizer):\n",
    "    size = len(dataloader.dataset)\n",
    "    model.train()\n",
    "    for batch, (X, y) in enumerate(dataloader):\n",
    "        # Compute prediction and loss\n",
    "        pred = model(X)\n",
    "        loss = loss_fn(pred, y)\n",
    "\n",
    "        # Backpropagation\n",
    "        optimizer.zero_grad()\n",
    "        loss.backward()\n",
    "        optimizer.step()\n",
    "\n",
    "        if batch % 5000 == 0:\n",
    "            loss, current = loss.item(), (batch + 1) * len(X)\n",
    "            print(f\"loss: {loss:>7f}  [{current:>5d}/{size:>5d}]\")\n",
    "\n",
    "\n",
    "def test_loop(dataloader, model, loss_fn):\n",
    "    size = len(dataloader.dataset)\n",
    "    num_batches = len(dataloader)\n",
    "    model.eval()\n",
    "    test_loss, correct = 0, 0\n",
    "\n",
    "    with torch.no_grad():\n",
    "        for X, y in dataloader:\n",
    "            pred = model(X)\n",
    "            test_loss += loss_fn(pred, y).item()\n",
    "            correct += (pred.argmax(1) == y).type(torch.float).sum().item()\n",
    "    test_loss /= num_batches\n",
    "    print(f\"Avg loss: {test_loss:>8f} \\n\")"
   ]
  },
  {
   "cell_type": "code",
   "execution_count": 70,
   "id": "d74114a9",
   "metadata": {},
   "outputs": [
    {
     "name": "stdout",
     "output_type": "stream",
     "text": [
      "Epoch 1\n",
      "-------------------------------\n",
      "loss: 0.684474  [    4/54432]\n",
      "loss: 0.314890  [20004/54432]\n",
      "loss: 0.260804  [40004/54432]\n",
      "Avg loss: 0.548425 \n",
      "\n",
      "Epoch 2\n",
      "-------------------------------\n",
      "loss: 0.917790  [    4/54432]\n",
      "loss: 0.533014  [20004/54432]\n",
      "loss: 0.495595  [40004/54432]\n",
      "Avg loss: 0.544509 \n",
      "\n",
      "Epoch 3\n",
      "-------------------------------\n",
      "loss: 0.671329  [    4/54432]\n",
      "loss: 0.460123  [20004/54432]\n",
      "loss: 0.547325  [40004/54432]\n",
      "Avg loss: 0.550433 \n",
      "\n",
      "Epoch 4\n",
      "-------------------------------\n",
      "loss: 0.359573  [    4/54432]\n",
      "loss: 0.484390  [20004/54432]\n",
      "loss: 0.243321  [40004/54432]\n",
      "Avg loss: 0.543188 \n",
      "\n",
      "Epoch 5\n",
      "-------------------------------\n",
      "loss: 0.501697  [    4/54432]\n",
      "loss: 0.607764  [20004/54432]\n",
      "loss: 0.448442  [40004/54432]\n",
      "Avg loss: 0.542737 \n",
      "\n",
      "Epoch 6\n",
      "-------------------------------\n",
      "loss: 0.283888  [    4/54432]\n",
      "loss: 0.585085  [20004/54432]\n",
      "loss: 0.271257  [40004/54432]\n",
      "Avg loss: 0.544238 \n",
      "\n",
      "Epoch 7\n",
      "-------------------------------\n",
      "loss: 0.404451  [    4/54432]\n",
      "loss: 1.156149  [20004/54432]\n",
      "loss: 0.898474  [40004/54432]\n",
      "Avg loss: 0.546959 \n",
      "\n",
      "Epoch 8\n",
      "-------------------------------\n",
      "loss: 0.657495  [    4/54432]\n",
      "loss: 0.866698  [20004/54432]\n",
      "loss: 0.405694  [40004/54432]\n",
      "Avg loss: 0.544799 \n",
      "\n",
      "Epoch 9\n",
      "-------------------------------\n",
      "loss: 0.360337  [    4/54432]\n",
      "loss: 0.987182  [20004/54432]\n",
      "loss: 1.089516  [40004/54432]\n",
      "Avg loss: 0.547058 \n",
      "\n",
      "Epoch 10\n",
      "-------------------------------\n",
      "loss: 0.352673  [    4/54432]\n",
      "loss: 0.484967  [20004/54432]\n",
      "loss: 0.952027  [40004/54432]\n",
      "Avg loss: 0.543141 \n",
      "\n",
      "Epoch 11\n",
      "-------------------------------\n",
      "loss: 0.820351  [    4/54432]\n",
      "loss: 0.238000  [20004/54432]\n",
      "loss: 0.425232  [40004/54432]\n",
      "Avg loss: 0.543589 \n",
      "\n",
      "Epoch 12\n",
      "-------------------------------\n",
      "loss: 0.724440  [    4/54432]\n",
      "loss: 0.292490  [20004/54432]\n",
      "loss: 0.218571  [40004/54432]\n",
      "Avg loss: 0.544081 \n",
      "\n",
      "Epoch 13\n",
      "-------------------------------\n",
      "loss: 0.310869  [    4/54432]\n",
      "loss: 1.029051  [20004/54432]\n",
      "loss: 0.512081  [40004/54432]\n",
      "Avg loss: 0.544046 \n",
      "\n",
      "Epoch 14\n",
      "-------------------------------\n",
      "loss: 0.187166  [    4/54432]\n",
      "loss: 0.620683  [20004/54432]\n",
      "loss: 0.436168  [40004/54432]\n",
      "Avg loss: 0.543952 \n",
      "\n",
      "Epoch 15\n",
      "-------------------------------\n",
      "loss: 0.440013  [    4/54432]\n",
      "loss: 0.431015  [20004/54432]\n",
      "loss: 0.129671  [40004/54432]\n",
      "Avg loss: 0.546333 \n",
      "\n",
      "Epoch 16\n",
      "-------------------------------\n",
      "loss: 0.310064  [    4/54432]\n",
      "loss: 0.688246  [20004/54432]\n",
      "loss: 0.654606  [40004/54432]\n",
      "Avg loss: 0.546621 \n",
      "\n",
      "Epoch 17\n",
      "-------------------------------\n",
      "loss: 0.613058  [    4/54432]\n",
      "loss: 0.574366  [20004/54432]\n",
      "loss: 0.806266  [40004/54432]\n",
      "Avg loss: 0.545456 \n",
      "\n",
      "Epoch 18\n",
      "-------------------------------\n",
      "loss: 0.606714  [    4/54432]\n",
      "loss: 0.235599  [20004/54432]\n",
      "loss: 0.716977  [40004/54432]\n",
      "Avg loss: 0.545926 \n",
      "\n",
      "Epoch 19\n",
      "-------------------------------\n",
      "loss: 0.388325  [    4/54432]\n",
      "loss: 0.591907  [20004/54432]\n",
      "loss: 0.411393  [40004/54432]\n",
      "Avg loss: 0.547635 \n",
      "\n",
      "Epoch 20\n",
      "-------------------------------\n",
      "loss: 0.470175  [    4/54432]\n",
      "loss: 0.389307  [20004/54432]\n",
      "loss: 0.823382  [40004/54432]\n",
      "Avg loss: 0.547773 \n",
      "\n",
      "Done!\n"
     ]
    }
   ],
   "source": [
    "# Training Deep Neural Network\n",
    "epochs = 20\n",
    "for t in range(epochs):\n",
    "    print(f\"Epoch {t+1}\\n-------------------------------\")\n",
    "    train_loop(train_dataloader, model, loss_fn, optimizer)\n",
    "    test_loop(test_dataloader, model, loss_fn)\n",
    "print(\"Done!\")"
   ]
  },
  {
   "cell_type": "code",
   "execution_count": 71,
   "id": "20c03067",
   "metadata": {},
   "outputs": [
    {
     "name": "stdout",
     "output_type": "stream",
     "text": [
      "Saved PyTorch Model State to model.pth\n"
     ]
    }
   ],
   "source": [
    "torch.save(model.state_dict(), \"model.pth\")\n",
    "print(\"Saved PyTorch Model State to model.pth\")"
   ]
  },
  {
   "cell_type": "code",
   "execution_count": 72,
   "id": "836e09b9",
   "metadata": {},
   "outputs": [
    {
     "data": {
      "text/plain": [
       "<All keys matched successfully>"
      ]
     },
     "execution_count": 72,
     "metadata": {},
     "output_type": "execute_result"
    }
   ],
   "source": [
    "model = NeuralNetwork()\n",
    "model.load_state_dict(torch.load(\"model.pth\"))"
   ]
  },
  {
   "cell_type": "code",
   "execution_count": 74,
   "id": "2abe00be",
   "metadata": {},
   "outputs": [
    {
     "data": {
      "text/plain": [
       "0.7980988209068732"
      ]
     },
     "execution_count": 74,
     "metadata": {},
     "output_type": "execute_result"
    }
   ],
   "source": [
    "test_torchx=torch.tensor(test_xdataset,dtype=torch.float32)\n",
    "y_pred = model(test_torchx)\n",
    "y_pred = y_pred.detach().numpy()\n",
    "roc_auc_score(y_test, y_pred)"
   ]
  },
  {
   "cell_type": "markdown",
   "id": "d2aad75d",
   "metadata": {},
   "source": [
    "# Summary for models"
   ]
  },
  {
   "cell_type": "markdown",
   "id": "2b6e0f46",
   "metadata": {},
   "source": [
    "Based on the ROC Score, the performance of GBM (Gradient Boosting Classifier) is the best, with highest AUC/ ROC score: 80%, among Logistics Classifier, GBM, and neural network. This GBM module for predicting Cardio vascular disease can benefit the medical industry. The benefits can be summarized as below,\n",
    "\n",
    "1. The GBM model can predict whether the patients have Cardio vascular Disease or not based on some simple inputs: Age, Height, Weight, Gender, Blood Pressures, Cholesterol, Glucose, Smoking Alcohol Intake and Physical activity in a high accuracy rate, around 80% accuracy. Doctors can collect simple inputs collected from survey and lab tests to roughly measure whether the patients needs more expensive further investigation/ referral to specialists to detect Cardio vascular disease. The model application can benefit patients and insurance company saving cost from more expensive further investigation and detecting cardio disease by simple survey and lab tests as first step.\n",
    "\n",
    "2. As mentioned in 1st point, the prediction model can reduce doctors' workload and increase doctors' efficiency of cardio vascular disease possibility measurment on patients.\n",
    "\n",
    "3. The GBM Model can provide guidance to patients which vital signs should be traced for identify whether they have higher possibility of having Cardio Vascular Disease. For exmaple, if blood pressure (Systolic) and cholesterol are high, then the patients need to pay attention to observe themselves whether they have higher possibility of having Cardio Vascular Disease and follow up to visit their doctors if they find any indication of Cardio Vascular Disease based on the vital signs.\n",
    "\n",
    "4. This GBM Model provides the feature importance graph. The feature importance informaton can provide which factors doctors and medical research institutes need to be concerned on. The medical industry can determine the further investigation on cardio disease research and study area by the feature importance information as reference."
   ]
  }
 ],
 "metadata": {
  "kernelspec": {
   "display_name": "Python 3 (ipykernel)",
   "language": "python",
   "name": "python3"
  },
  "language_info": {
   "codemirror_mode": {
    "name": "ipython",
    "version": 3
   },
   "file_extension": ".py",
   "mimetype": "text/x-python",
   "name": "python",
   "nbconvert_exporter": "python",
   "pygments_lexer": "ipython3",
   "version": "3.9.13"
  }
 },
 "nbformat": 4,
 "nbformat_minor": 5
}
